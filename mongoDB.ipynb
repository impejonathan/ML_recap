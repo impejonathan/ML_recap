{
 "cells": [
  {
   "cell_type": "code",
   "execution_count": null,
   "metadata": {},
   "outputs": [],
   "source": [
    "import os\n",
    "from dotenv import load_dotenv\n",
    "import pandas as pd\n",
    "from pymongo import MongoClient\n",
    "\n",
    "load_dotenv()\n",
    "uri = os.getenv(\"MONGODB_URI\")\n",
    "chemin_fichier = \"data/platine.csv\"\n",
    "nom_bdd = \"test\"\n",
    "nom_collection = \"platine\"\n",
    "\n",
    "client = MongoClient(uri)\n",
    "df = pd.read_csv(chemin_fichier)\n",
    "data = df.to_dict(\"records\")\n",
    "db = client[nom_bdd]\n",
    "collection = db[nom_collection]\n",
    "collection.insert_many(data)\n"
   ]
  }
 ],
 "metadata": {
  "language_info": {
   "name": "python"
  },
  "orig_nbformat": 4
 },
 "nbformat": 4,
 "nbformat_minor": 2
}
