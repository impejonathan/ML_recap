{
 "cells": [
  {
   "cell_type": "code",
   "execution_count": 1,
   "metadata": {},
   "outputs": [],
   "source": [
    "import pandas as pd  \n",
    "import numpy as np\n",
    "import matplotlib.pyplot as plt\n",
    "import seaborn as sns\n",
    "# import folium   \n",
    "# from branca.element import Figure    \n",
    "# import plotly.express as px\n",
    "# import nbformat\n",
    "# lire le fichier CSV dans un DataFrame pandas\n",
    "df_max = pd.read_csv(\"senscritique.csv\")\n",
    "df_box_office = pd.read_csv(\"senscritique_box_office.csv\")"
   ]
  },
  {
   "cell_type": "code",
   "execution_count": 2,
   "metadata": {},
   "outputs": [
    {
     "name": "stdout",
     "output_type": "stream",
     "text": [
      "<class 'pandas.core.frame.DataFrame'>\n",
      "RangeIndex: 21120 entries, 0 to 21119\n",
      "Data columns (total 2 columns):\n",
      " #   Column  Non-Null Count  Dtype \n",
      "---  ------  --------------  ----- \n",
      " 0   titre   4546 non-null   object\n",
      " 1   entree  4546 non-null   object\n",
      "dtypes: object(2)\n",
      "memory usage: 330.1+ KB\n"
     ]
    }
   ],
   "source": [
    "df_box_office.info()"
   ]
  },
  {
   "cell_type": "code",
   "execution_count": 3,
   "metadata": {},
   "outputs": [
    {
     "name": "stdout",
     "output_type": "stream",
     "text": [
      "Nombre de lignes avec des valeurs nulles: 16574\n",
      "Nombre de lignes avec des valeurs non nulles: 4546\n"
     ]
    }
   ],
   "source": [
    "# Compter le nombre de lignes avec des valeurs nulles\n",
    "null_count = df_box_office.isnull().any(axis=1).sum()\n",
    "\n",
    "# Compter le nombre de lignes avec des valeurs non nulles\n",
    "not_null_count = df_box_office.notnull().all(axis=1).sum()\n",
    "\n",
    "# Afficher les résultats\n",
    "print(f\"Nombre de lignes avec des valeurs nulles: {null_count}\")\n",
    "print(f\"Nombre de lignes avec des valeurs non nulles: {not_null_count}\")\n"
   ]
  },
  {
   "cell_type": "code",
   "execution_count": 4,
   "metadata": {},
   "outputs": [
    {
     "data": {
      "text/html": [
       "<div>\n",
       "<style scoped>\n",
       "    .dataframe tbody tr th:only-of-type {\n",
       "        vertical-align: middle;\n",
       "    }\n",
       "\n",
       "    .dataframe tbody tr th {\n",
       "        vertical-align: top;\n",
       "    }\n",
       "\n",
       "    .dataframe thead th {\n",
       "        text-align: right;\n",
       "    }\n",
       "</style>\n",
       "<table border=\"1\" class=\"dataframe\">\n",
       "  <thead>\n",
       "    <tr style=\"text-align: right;\">\n",
       "      <th></th>\n",
       "      <th>titre</th>\n",
       "      <th>entree</th>\n",
       "    </tr>\n",
       "  </thead>\n",
       "  <tbody>\n",
       "    <tr>\n",
       "      <th>190</th>\n",
       "      <td>En pleine tempête (2000)</td>\n",
       "      <td>1 403 086 entrées</td>\n",
       "    </tr>\n",
       "    <tr>\n",
       "      <th>191</th>\n",
       "      <td>Meilleur espoir féminin (2000)</td>\n",
       "      <td>1 184 971 entrées</td>\n",
       "    </tr>\n",
       "    <tr>\n",
       "      <th>192</th>\n",
       "      <td>Dancer in the Dark (2000)</td>\n",
       "      <td>1 166 150 entrées</td>\n",
       "    </tr>\n",
       "    <tr>\n",
       "      <th>193</th>\n",
       "      <td>The Patriot : Le Chemin de la liberté (2000)</td>\n",
       "      <td>1 160 975 entrées</td>\n",
       "    </tr>\n",
       "    <tr>\n",
       "      <th>194</th>\n",
       "      <td>In the Mood for Love (2000)</td>\n",
       "      <td>1 096 985 entrées</td>\n",
       "    </tr>\n",
       "    <tr>\n",
       "      <th>...</th>\n",
       "      <td>...</td>\n",
       "      <td>...</td>\n",
       "    </tr>\n",
       "    <tr>\n",
       "      <th>20832</th>\n",
       "      <td>À cause des filles… ? (2019)</td>\n",
       "      <td>18 327</td>\n",
       "    </tr>\n",
       "    <tr>\n",
       "      <th>20833</th>\n",
       "      <td>Les Fauves (2019)</td>\n",
       "      <td>15 354</td>\n",
       "    </tr>\n",
       "    <tr>\n",
       "      <th>20834</th>\n",
       "      <td>L'Angle mort (2019)</td>\n",
       "      <td>10 835</td>\n",
       "    </tr>\n",
       "    <tr>\n",
       "      <th>20835</th>\n",
       "      <td>Une jeunesse dorée (2019)</td>\n",
       "      <td>10 452</td>\n",
       "    </tr>\n",
       "    <tr>\n",
       "      <th>20846</th>\n",
       "      <td>Le Bel été (2019)</td>\n",
       "      <td>4 999</td>\n",
       "    </tr>\n",
       "  </tbody>\n",
       "</table>\n",
       "<p>4546 rows × 2 columns</p>\n",
       "</div>"
      ],
      "text/plain": [
       "                                              titre             entree\n",
       "190                        En pleine tempête (2000)  1 403 086 entrées\n",
       "191                  Meilleur espoir féminin (2000)  1 184 971 entrées\n",
       "192                       Dancer in the Dark (2000)  1 166 150 entrées\n",
       "193    The Patriot : Le Chemin de la liberté (2000)  1 160 975 entrées\n",
       "194                     In the Mood for Love (2000)  1 096 985 entrées\n",
       "...                                             ...                ...\n",
       "20832                  À cause des filles… ? (2019)             18 327\n",
       "20833                             Les Fauves (2019)             15 354\n",
       "20834                           L'Angle mort (2019)             10 835\n",
       "20835                     Une jeunesse dorée (2019)             10 452\n",
       "20846                             Le Bel été (2019)              4 999\n",
       "\n",
       "[4546 rows x 2 columns]"
      ]
     },
     "execution_count": 4,
     "metadata": {},
     "output_type": "execute_result"
    }
   ],
   "source": [
    "# Supprimer les lignes avec des valeurs nulles\n",
    "df_box_office = df_box_office.dropna()\n",
    "\n",
    "# Afficher les premières lignes du DataFrame résultant\n",
    "df_box_office\n",
    "\n"
   ]
  },
  {
   "cell_type": "code",
   "execution_count": null,
   "metadata": {},
   "outputs": [],
   "source": [
    "\n"
   ]
  },
  {
   "cell_type": "code",
   "execution_count": 5,
   "metadata": {},
   "outputs": [
    {
     "name": "stdout",
     "output_type": "stream",
     "text": [
      "                                            titre             entree annee\n",
      "190                      En pleine tempête (2000)  1 403 086 entrées  2000\n",
      "191                Meilleur espoir féminin (2000)  1 184 971 entrées  2000\n",
      "192                     Dancer in the Dark (2000)  1 166 150 entrées  2000\n",
      "193  The Patriot : Le Chemin de la liberté (2000)  1 160 975 entrées  2000\n",
      "194                   In the Mood for Love (2000)  1 096 985 entrées  2000\n"
     ]
    }
   ],
   "source": [
    "# Extraire les années entre parenthèses dans la colonne \"titre\"\n",
    "df_box_office[\"annee\"] = df_box_office[\"titre\"].str.extract(r\"\\((\\d{4})\\)\")\n",
    "\n",
    "# Afficher les premières lignes du DataFrame résultant\n",
    "print(df_box_office.head())\n"
   ]
  },
  {
   "cell_type": "code",
   "execution_count": 6,
   "metadata": {},
   "outputs": [
    {
     "name": "stdout",
     "output_type": "stream",
     "text": [
      "                                     titre             entree annee\n",
      "190                      En pleine tempête  1 403 086 entrées  2000\n",
      "191                Meilleur espoir féminin  1 184 971 entrées  2000\n",
      "192                     Dancer in the Dark  1 166 150 entrées  2000\n",
      "193  The Patriot : Le Chemin de la liberté  1 160 975 entrées  2000\n",
      "194                   In the Mood for Love  1 096 985 entrées  2000\n"
     ]
    }
   ],
   "source": [
    "# Supprimer les années entre parenthèses dans la colonne \"titre\"\n",
    "df_box_office[\"titre\"] = df_box_office[\"titre\"].str.replace(r\"\\s*\\(\\d{4}\\)\", \"\", regex=True)\n",
    "\n",
    "# Afficher les premières lignes du DataFrame résultant\n",
    "print(df_box_office.head())\n"
   ]
  },
  {
   "cell_type": "code",
   "execution_count": 7,
   "metadata": {},
   "outputs": [
    {
     "name": "stdout",
     "output_type": "stream",
     "text": [
      "                                     titre     entree annee\n",
      "190                      En pleine tempête  1 403 086  2000\n",
      "191                Meilleur espoir féminin  1 184 971  2000\n",
      "192                     Dancer in the Dark  1 166 150  2000\n",
      "193  The Patriot : Le Chemin de la liberté  1 160 975  2000\n",
      "194                   In the Mood for Love  1 096 985  2000\n"
     ]
    }
   ],
   "source": [
    "# Supprimer les mots \"entrées\" et \"entrées (en cours)\" dans la colonne \"entree\"\n",
    "df_box_office[\"entree\"] = df_box_office[\"entree\"].str.replace(r\"\\s*entrées\\s*(\\(en cours\\))?\", \"\", regex=True)\n",
    "\n",
    "# Afficher les premières lignes du DataFrame résultant\n",
    "print(df_box_office.head())\n"
   ]
  },
  {
   "cell_type": "code",
   "execution_count": 8,
   "metadata": {},
   "outputs": [
    {
     "name": "stdout",
     "output_type": "stream",
     "text": [
      "Nombre de titres en double: 1148\n",
      "                         titre      entree annee\n",
      "191    Meilleur espoir féminin   1 184 971  2000\n",
      "208     Le Prince du Pacifique   1 028 773  2000\n",
      "292                     Taxi 2  10 349 454  2000\n",
      "332         Le Goût des autres   3 859 151  2000\n",
      "360      Les Rivières pourpres   3 255 184  2000\n",
      "...                        ...         ...   ...\n",
      "20665            Chanson douce     217 224  2019\n",
      "20666                  Lourdes     216 917  2019\n",
      "20667                    Fahim     216 724  2019\n",
      "20668                  Le Daim     213 649  2019\n",
      "20746                  Frankie      66 775  2019\n",
      "\n",
      "[1148 rows x 3 columns]\n"
     ]
    }
   ],
   "source": [
    "# Vérifier s'il y a des titres en double dans la colonne \"titre\"\n",
    "duplicates = df_box_office.duplicated(subset=\"titre\", keep=False)\n",
    "\n",
    "# Compter le nombre de titres en double\n",
    "duplicate_count = duplicates.sum()\n",
    "\n",
    "# Afficher le nombre de titres en double\n",
    "print(f\"Nombre de titres en double: {duplicate_count}\")\n",
    "\n",
    "# Afficher les titres en double et leurs entrées correspondantes\n",
    "print(df_box_office.loc[duplicates, [\"titre\", \"entree\",\"annee\"]])"
   ]
  },
  {
   "cell_type": "code",
   "execution_count": 9,
   "metadata": {},
   "outputs": [],
   "source": [
    "# Modifier les titres en double dans df_box_office\n",
    "df_box_office.loc[(df_box_office[\"titre\"] == \"Les 4 Fantastiques\") & (df_box_office[\"annee\"] == \"2015\"), \"titre\"] = \"Les 4 Fantastiques reboot\"\n",
    "df_box_office.loc[(df_box_office[\"titre\"] == \"Coco\") & (df_box_office[\"annee\"] == \"2017\"), \"titre\"] = \"Coco disney\"\n",
    "df_box_office.loc[df_box_office[\"titre\"] == \"Robin des Bois\", \"titre\"] = df_box_office[\"titre\"] + \" - \" + df_box_office[\"annee\"]\n",
    "df_box_office.loc[df_box_office[\"titre\"] == \"La Belle et la Bête\", \"titre\"] = df_box_office[\"titre\"] + \" - \" + df_box_office[\"annee\"]\n",
    "df_box_office.loc[(df_box_office[\"titre\"] == \"Avatar\") & (df_box_office[\"entree\"] == \"564 979\"), \"titre\"] = \"Avatar (nouvelle projection)\"\n"
   ]
  },
  {
   "cell_type": "code",
   "execution_count": 10,
   "metadata": {},
   "outputs": [
    {
     "name": "stdout",
     "output_type": "stream",
     "text": [
      "                                          titre     entree annee\n",
      "2617                         Les 4 Fantastiques  2 223 838  2005\n",
      "3483   Les 4 Fantastiques et le Surfer d'Argent  1 671 715  2007\n",
      "4330                                       Coco  3 008 677  2009\n",
      "4436                          Coco avant Chanel  1 030 096  2009\n",
      "4944                      Robin des Bois - 2010  2 385 387  2010\n",
      "6842                 La Belle et la Bête - 2014  1 827 336  2014\n",
      "7387     Robin des Bois : La Véritable Histoire    521 000  2015\n",
      "7435                  Les 4 Fantastiques reboot  1 204 000  2015\n",
      "8453                                Coco disney  4 366 449  2017\n",
      "8467                 La Belle et la Bête - 2017  3 566 931  2017\n",
      "8877                      Robin des Bois - 2018    363 926  2018\n",
      "15907                                      Coco  3 008 677  2009\n",
      "15922                         Coco avant Chanel  1 030 096  2009\n",
      "16231            Coco Chanel et Igor Stravinsky    132 159  2009\n",
      "18282                La Belle et la Bête - 2014  1 828 630  2014\n",
      "18787    Robin des Bois : La Véritable Histoire    525 046  2015\n"
     ]
    }
   ],
   "source": [
    "# Sélectionner les lignes contenant l'un des mots spécifiés dans la colonne \"titre\"\n",
    "selected_rows = df_box_office[df_box_office[\"titre\"].str.contains(r\"Les 4 Fantastiques|Coco|Robin des Bois|La Belle et la Bête|avatar\")]\n",
    "\n",
    "# Afficher les lignes sélectionnées\n",
    "print(selected_rows)\n",
    "\n"
   ]
  },
  {
   "cell_type": "code",
   "execution_count": 11,
   "metadata": {},
   "outputs": [],
   "source": [
    "df_box_office = df_box_office[df_box_office['titre'] != 'Avatar (nouvelle projection)']\n"
   ]
  },
  {
   "cell_type": "code",
   "execution_count": 12,
   "metadata": {},
   "outputs": [
    {
     "name": "stdout",
     "output_type": "stream",
     "text": [
      "Nombre de lignes avec des valeurs nulles: 2\n",
      "Nombre de lignes avec des valeurs non nulles: 4543\n"
     ]
    }
   ],
   "source": [
    "# Compter le nombre de lignes avec des valeurs nulles\n",
    "null_count = df_box_office.isnull().any(axis=1).sum()\n",
    "\n",
    "# Compter le nombre de lignes avec des valeurs non nulles\n",
    "not_null_count = df_box_office.notnull().all(axis=1).sum()\n",
    "\n",
    "# Afficher les résultats\n",
    "print(f\"Nombre de lignes avec des valeurs nulles: {null_count}\")\n",
    "print(f\"Nombre de lignes avec des valeurs non nulles: {not_null_count}\")"
   ]
  },
  {
   "cell_type": "code",
   "execution_count": 13,
   "metadata": {},
   "outputs": [
    {
     "name": "stdout",
     "output_type": "stream",
     "text": [
      "object\n"
     ]
    }
   ],
   "source": [
    "print(df_box_office['entree'].dtypes)\n"
   ]
  },
  {
   "cell_type": "code",
   "execution_count": 14,
   "metadata": {},
   "outputs": [
    {
     "name": "stderr",
     "output_type": "stream",
     "text": [
      "C:\\Users\\impej\\AppData\\Local\\Temp\\ipykernel_19796\\2448748212.py:1: SettingWithCopyWarning: \n",
      "A value is trying to be set on a copy of a slice from a DataFrame.\n",
      "Try using .loc[row_indexer,col_indexer] = value instead\n",
      "\n",
      "See the caveats in the documentation: https://pandas.pydata.org/pandas-docs/stable/user_guide/indexing.html#returning-a-view-versus-a-copy\n",
      "  df_box_office['entree'] = df_box_office['entree'].astype(str)\n"
     ]
    }
   ],
   "source": [
    "df_box_office['entree'] = df_box_office['entree'].astype(str)\n"
   ]
  },
  {
   "cell_type": "code",
   "execution_count": 15,
   "metadata": {},
   "outputs": [
    {
     "name": "stdout",
     "output_type": "stream",
     "text": [
      "object\n"
     ]
    }
   ],
   "source": [
    "\n",
    "print(df_box_office['entree'].dtypes)\n"
   ]
  },
  {
   "cell_type": "code",
   "execution_count": 16,
   "metadata": {},
   "outputs": [
    {
     "name": "stderr",
     "output_type": "stream",
     "text": [
      "C:\\Users\\impej\\AppData\\Local\\Temp\\ipykernel_19796\\3864802454.py:4: SettingWithCopyWarning: \n",
      "A value is trying to be set on a copy of a slice from a DataFrame.\n",
      "Try using .loc[row_indexer,col_indexer] = value instead\n",
      "\n",
      "See the caveats in the documentation: https://pandas.pydata.org/pandas-docs/stable/user_guide/indexing.html#returning-a-view-versus-a-copy\n",
      "  df_box_office['entree'] = df_box_office['entree'].astype(str)\n",
      "C:\\Users\\impej\\AppData\\Local\\Temp\\ipykernel_19796\\3864802454.py:7: SettingWithCopyWarning: \n",
      "A value is trying to be set on a copy of a slice from a DataFrame.\n",
      "Try using .loc[row_indexer,col_indexer] = value instead\n",
      "\n",
      "See the caveats in the documentation: https://pandas.pydata.org/pandas-docs/stable/user_guide/indexing.html#returning-a-view-versus-a-copy\n",
      "  df_box_office['entree'] = df_box_office['entree'].str.replace(r'[^0-9\\s]', '', regex=True)\n",
      "C:\\Users\\impej\\AppData\\Local\\Temp\\ipykernel_19796\\3864802454.py:10: SettingWithCopyWarning: \n",
      "A value is trying to be set on a copy of a slice from a DataFrame.\n",
      "Try using .loc[row_indexer,col_indexer] = value instead\n",
      "\n",
      "See the caveats in the documentation: https://pandas.pydata.org/pandas-docs/stable/user_guide/indexing.html#returning-a-view-versus-a-copy\n",
      "  df_box_office['entree'] = df_box_office['entree'].str.strip()\n",
      "C:\\Users\\impej\\AppData\\Local\\Temp\\ipykernel_19796\\3864802454.py:13: SettingWithCopyWarning: \n",
      "A value is trying to be set on a copy of a slice from a DataFrame.\n",
      "Try using .loc[row_indexer,col_indexer] = value instead\n",
      "\n",
      "See the caveats in the documentation: https://pandas.pydata.org/pandas-docs/stable/user_guide/indexing.html#returning-a-view-versus-a-copy\n",
      "  df_box_office['entree'] = df_box_office['entree'].str.replace(' ', '')\n",
      "C:\\Users\\impej\\AppData\\Local\\Temp\\ipykernel_19796\\3864802454.py:16: SettingWithCopyWarning: \n",
      "A value is trying to be set on a copy of a slice from a DataFrame.\n",
      "Try using .loc[row_indexer,col_indexer] = value instead\n",
      "\n",
      "See the caveats in the documentation: https://pandas.pydata.org/pandas-docs/stable/user_guide/indexing.html#returning-a-view-versus-a-copy\n",
      "  df_box_office['entree'] = pd.to_numeric(df_box_office['entree'], errors='coerce')\n"
     ]
    }
   ],
   "source": [
    "import pandas as pd\n",
    "\n",
    "# Convertir la colonne \"entree\" en type chaîne de caractères\n",
    "df_box_office['entree'] = df_box_office['entree'].astype(str)\n",
    "\n",
    "# Remplacer tout ce qui n'est pas un chiffre ou un espace par une chaîne vide\n",
    "df_box_office['entree'] = df_box_office['entree'].str.replace(r'[^0-9\\s]', '', regex=True)\n",
    "\n",
    "# Supprimer les espaces en début et en fin de chaîne\n",
    "df_box_office['entree'] = df_box_office['entree'].str.strip()\n",
    "\n",
    "# Remplacer les espaces par des chaînes vides\n",
    "df_box_office['entree'] = df_box_office['entree'].str.replace(' ', '')\n",
    "\n",
    "# Convertir la colonne \"entree\" en type numérique\n",
    "df_box_office['entree'] = pd.to_numeric(df_box_office['entree'], errors='coerce')\n"
   ]
  },
  {
   "cell_type": "code",
   "execution_count": 17,
   "metadata": {},
   "outputs": [
    {
     "name": "stderr",
     "output_type": "stream",
     "text": [
      "C:\\Users\\impej\\AppData\\Local\\Temp\\ipykernel_19796\\2188188964.py:2: SettingWithCopyWarning: \n",
      "A value is trying to be set on a copy of a slice from a DataFrame.\n",
      "Try using .loc[row_indexer,col_indexer] = value instead\n",
      "\n",
      "See the caveats in the documentation: https://pandas.pydata.org/pandas-docs/stable/user_guide/indexing.html#returning-a-view-versus-a-copy\n",
      "  df_box_office['titre'] = df_box_office['titre'].str.lower()\n"
     ]
    }
   ],
   "source": [
    "# Convertir toutes les valeurs de la colonne \"titre\" en minuscules\n",
    "df_box_office['titre'] = df_box_office['titre'].str.lower()\n"
   ]
  },
  {
   "cell_type": "code",
   "execution_count": 18,
   "metadata": {},
   "outputs": [
    {
     "data": {
      "text/html": [
       "<div>\n",
       "<style scoped>\n",
       "    .dataframe tbody tr th:only-of-type {\n",
       "        vertical-align: middle;\n",
       "    }\n",
       "\n",
       "    .dataframe tbody tr th {\n",
       "        vertical-align: top;\n",
       "    }\n",
       "\n",
       "    .dataframe thead th {\n",
       "        text-align: right;\n",
       "    }\n",
       "</style>\n",
       "<table border=\"1\" class=\"dataframe\">\n",
       "  <thead>\n",
       "    <tr style=\"text-align: right;\">\n",
       "      <th></th>\n",
       "      <th>titre</th>\n",
       "      <th>entree</th>\n",
       "      <th>annee</th>\n",
       "    </tr>\n",
       "  </thead>\n",
       "  <tbody>\n",
       "    <tr>\n",
       "      <th>190</th>\n",
       "      <td>en pleine tempête</td>\n",
       "      <td>1403086.0</td>\n",
       "      <td>2000</td>\n",
       "    </tr>\n",
       "    <tr>\n",
       "      <th>191</th>\n",
       "      <td>meilleur espoir féminin</td>\n",
       "      <td>1184971.0</td>\n",
       "      <td>2000</td>\n",
       "    </tr>\n",
       "    <tr>\n",
       "      <th>192</th>\n",
       "      <td>dancer in the dark</td>\n",
       "      <td>1166150.0</td>\n",
       "      <td>2000</td>\n",
       "    </tr>\n",
       "    <tr>\n",
       "      <th>193</th>\n",
       "      <td>the patriot : le chemin de la liberté</td>\n",
       "      <td>1160975.0</td>\n",
       "      <td>2000</td>\n",
       "    </tr>\n",
       "    <tr>\n",
       "      <th>194</th>\n",
       "      <td>in the mood for love</td>\n",
       "      <td>1096985.0</td>\n",
       "      <td>2000</td>\n",
       "    </tr>\n",
       "  </tbody>\n",
       "</table>\n",
       "</div>"
      ],
      "text/plain": [
       "                                     titre     entree annee\n",
       "190                      en pleine tempête  1403086.0  2000\n",
       "191                meilleur espoir féminin  1184971.0  2000\n",
       "192                     dancer in the dark  1166150.0  2000\n",
       "193  the patriot : le chemin de la liberté  1160975.0  2000\n",
       "194                   in the mood for love  1096985.0  2000"
      ]
     },
     "execution_count": 18,
     "metadata": {},
     "output_type": "execute_result"
    }
   ],
   "source": [
    "# Suppression des doublons en fonction des colonnes 'titre' et 'annee'\n",
    "df_box_office = df_box_office.drop_duplicates(subset=['titre', 'annee'])\n",
    "\n",
    "# Affichage des premières lignes du DataFrame résultant\n",
    "df_box_office.head()\n"
   ]
  },
  {
   "cell_type": "code",
   "execution_count": 150,
   "metadata": {},
   "outputs": [],
   "source": [
    "df_box_office.to_csv(\"data/silver_senscritique_box_office.csv\" , index=False)   "
   ]
  }
 ],
 "metadata": {
  "kernelspec": {
   "display_name": "base",
   "language": "python",
   "name": "python3"
  },
  "language_info": {
   "codemirror_mode": {
    "name": "ipython",
    "version": 3
   },
   "file_extension": ".py",
   "mimetype": "text/x-python",
   "name": "python",
   "nbconvert_exporter": "python",
   "pygments_lexer": "ipython3",
   "version": "3.10.8"
  },
  "orig_nbformat": 4
 },
 "nbformat": 4,
 "nbformat_minor": 2
}
