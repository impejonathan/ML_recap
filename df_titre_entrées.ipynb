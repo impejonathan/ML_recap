{
 "cells": [
  {
   "attachments": {},
   "cell_type": "markdown",
   "metadata": {},
   "source": [
    "## 1- Imports"
   ]
  },
  {
   "cell_type": "code",
   "execution_count": 720,
   "metadata": {},
   "outputs": [],
   "source": [
    "import pandas as pd\n",
    "import numpy as np"
   ]
  },
  {
   "attachments": {},
   "cell_type": "markdown",
   "metadata": {},
   "source": [
    "## 2- DataFrame Titres et Entrées"
   ]
  },
  {
   "cell_type": "code",
   "execution_count": 721,
   "metadata": {},
   "outputs": [],
   "source": [
    "df = pd.read_csv('allocine_films/data.csv')\n",
    "df1 = pd.read_csv('allocine_films/films_data.csv')"
   ]
  },
  {
   "cell_type": "code",
   "execution_count": 722,
   "metadata": {},
   "outputs": [
    {
     "data": {
      "text/html": [
       "<div>\n",
       "<style scoped>\n",
       "    .dataframe tbody tr th:only-of-type {\n",
       "        vertical-align: middle;\n",
       "    }\n",
       "\n",
       "    .dataframe tbody tr th {\n",
       "        vertical-align: top;\n",
       "    }\n",
       "\n",
       "    .dataframe thead th {\n",
       "        text-align: right;\n",
       "    }\n",
       "</style>\n",
       "<table border=\"1\" class=\"dataframe\">\n",
       "  <thead>\n",
       "    <tr style=\"text-align: right;\">\n",
       "      <th></th>\n",
       "      <th>Titre</th>\n",
       "      <th>Entrées</th>\n",
       "    </tr>\n",
       "  </thead>\n",
       "  <tbody>\n",
       "    <tr>\n",
       "      <th>0</th>\n",
       "      <td>Avatar : la voie de l'eau</td>\n",
       "      <td>2 739 848,3 010 310</td>\n",
       "    </tr>\n",
       "    <tr>\n",
       "      <th>1</th>\n",
       "      <td>Le Processus de paix</td>\n",
       "      <td>34 918,15 048</td>\n",
       "    </tr>\n",
       "    <tr>\n",
       "      <th>2</th>\n",
       "      <td>The Lost City of Z</td>\n",
       "      <td>150 045,76 883</td>\n",
       "    </tr>\n",
       "    <tr>\n",
       "      <th>3</th>\n",
       "      <td>Spider-Man : New Generation</td>\n",
       "      <td>218 728,149 041</td>\n",
       "    </tr>\n",
       "    <tr>\n",
       "      <th>4</th>\n",
       "      <td>Jeanne du Barry</td>\n",
       "      <td>45 029,356 152</td>\n",
       "    </tr>\n",
       "    <tr>\n",
       "      <th>...</th>\n",
       "      <td>...</td>\n",
       "      <td>...</td>\n",
       "    </tr>\n",
       "    <tr>\n",
       "      <th>8692</th>\n",
       "      <td>Triomf</td>\n",
       "      <td>140,66</td>\n",
       "    </tr>\n",
       "    <tr>\n",
       "      <th>8693</th>\n",
       "      <td>Property</td>\n",
       "      <td>106,20</td>\n",
       "    </tr>\n",
       "    <tr>\n",
       "      <th>8694</th>\n",
       "      <td>Nocturnes pour le roi de Rome</td>\n",
       "      <td>211,161</td>\n",
       "    </tr>\n",
       "    <tr>\n",
       "      <th>8695</th>\n",
       "      <td>Notes Laura Fiori</td>\n",
       "      <td>14,11</td>\n",
       "    </tr>\n",
       "    <tr>\n",
       "      <th>8696</th>\n",
       "      <td>Hollywood, California</td>\n",
       "      <td>83</td>\n",
       "    </tr>\n",
       "  </tbody>\n",
       "</table>\n",
       "<p>8697 rows × 2 columns</p>\n",
       "</div>"
      ],
      "text/plain": [
       "                              Titre              Entrées\n",
       "0         Avatar : la voie de l'eau  2 739 848,3 010 310\n",
       "1              Le Processus de paix        34 918,15 048\n",
       "2                The Lost City of Z       150 045,76 883\n",
       "3       Spider-Man : New Generation      218 728,149 041\n",
       "4                   Jeanne du Barry       45 029,356 152\n",
       "...                             ...                  ...\n",
       "8692                         Triomf               140,66\n",
       "8693                       Property               106,20\n",
       "8694  Nocturnes pour le roi de Rome              211,161\n",
       "8695              Notes Laura Fiori                14,11\n",
       "8696          Hollywood, California                   83\n",
       "\n",
       "[8697 rows x 2 columns]"
      ]
     },
     "execution_count": 722,
     "metadata": {},
     "output_type": "execute_result"
    }
   ],
   "source": [
    "df"
   ]
  },
  {
   "cell_type": "code",
   "execution_count": 723,
   "metadata": {},
   "outputs": [
    {
     "data": {
      "text/html": [
       "<div>\n",
       "<style scoped>\n",
       "    .dataframe tbody tr th:only-of-type {\n",
       "        vertical-align: middle;\n",
       "    }\n",
       "\n",
       "    .dataframe tbody tr th {\n",
       "        vertical-align: top;\n",
       "    }\n",
       "\n",
       "    .dataframe thead th {\n",
       "        text-align: right;\n",
       "    }\n",
       "</style>\n",
       "<table border=\"1\" class=\"dataframe\">\n",
       "  <thead>\n",
       "    <tr style=\"text-align: right;\">\n",
       "      <th></th>\n",
       "      <th>Titre</th>\n",
       "      <th>Entrées</th>\n",
       "    </tr>\n",
       "  </thead>\n",
       "  <tbody>\n",
       "    <tr>\n",
       "      <th>269</th>\n",
       "      <td>Bienvenue chez les Ch'tis</td>\n",
       "      <td>555 392,4 378 720</td>\n",
       "    </tr>\n",
       "  </tbody>\n",
       "</table>\n",
       "</div>"
      ],
      "text/plain": [
       "                         Titre            Entrées\n",
       "269  Bienvenue chez les Ch'tis  555 392,4 378 720"
      ]
     },
     "execution_count": 723,
     "metadata": {},
     "output_type": "execute_result"
    }
   ],
   "source": [
    "df[df['Titre'] == \"Bienvenue chez les Ch'tis\"]"
   ]
  },
  {
   "cell_type": "code",
   "execution_count": 724,
   "metadata": {},
   "outputs": [
    {
     "data": {
      "text/plain": [
       "8697"
      ]
     },
     "execution_count": 724,
     "metadata": {},
     "output_type": "execute_result"
    }
   ],
   "source": [
    "df['Entrées'].isna().count()"
   ]
  },
  {
   "cell_type": "code",
   "execution_count": 725,
   "metadata": {},
   "outputs": [
    {
     "data": {
      "text/html": [
       "<div>\n",
       "<style scoped>\n",
       "    .dataframe tbody tr th:only-of-type {\n",
       "        vertical-align: middle;\n",
       "    }\n",
       "\n",
       "    .dataframe tbody tr th {\n",
       "        vertical-align: top;\n",
       "    }\n",
       "\n",
       "    .dataframe thead th {\n",
       "        text-align: right;\n",
       "    }\n",
       "</style>\n",
       "<table border=\"1\" class=\"dataframe\">\n",
       "  <thead>\n",
       "    <tr style=\"text-align: right;\">\n",
       "      <th></th>\n",
       "      <th>Titre</th>\n",
       "      <th>Entrées</th>\n",
       "    </tr>\n",
       "  </thead>\n",
       "  <tbody>\n",
       "  </tbody>\n",
       "</table>\n",
       "</div>"
      ],
      "text/plain": [
       "Empty DataFrame\n",
       "Columns: [Titre, Entrées]\n",
       "Index: []"
      ]
     },
     "execution_count": 725,
     "metadata": {},
     "output_type": "execute_result"
    }
   ],
   "source": [
    "df[df['Titre']=='Oppenheimer']"
   ]
  },
  {
   "cell_type": "code",
   "execution_count": 726,
   "metadata": {},
   "outputs": [
    {
     "data": {
      "text/html": [
       "<div>\n",
       "<style scoped>\n",
       "    .dataframe tbody tr th:only-of-type {\n",
       "        vertical-align: middle;\n",
       "    }\n",
       "\n",
       "    .dataframe tbody tr th {\n",
       "        vertical-align: top;\n",
       "    }\n",
       "\n",
       "    .dataframe thead th {\n",
       "        text-align: right;\n",
       "    }\n",
       "</style>\n",
       "<table border=\"1\" class=\"dataframe\">\n",
       "  <thead>\n",
       "    <tr style=\"text-align: right;\">\n",
       "      <th></th>\n",
       "      <th>Titre</th>\n",
       "      <th>Entrées</th>\n",
       "    </tr>\n",
       "  </thead>\n",
       "  <tbody>\n",
       "    <tr>\n",
       "      <th>30</th>\n",
       "      <td>Oppenheimer</td>\n",
       "      <td>80 500 000</td>\n",
       "    </tr>\n",
       "    <tr>\n",
       "      <th>114412</th>\n",
       "      <td>Oppenheimer</td>\n",
       "      <td>NaN</td>\n",
       "    </tr>\n",
       "  </tbody>\n",
       "</table>\n",
       "</div>"
      ],
      "text/plain": [
       "              Titre     Entrées\n",
       "30      Oppenheimer  80 500 000\n",
       "114412  Oppenheimer         NaN"
      ]
     },
     "execution_count": 726,
     "metadata": {},
     "output_type": "execute_result"
    }
   ],
   "source": [
    "df1[df1['Titre']=='Oppenheimer']"
   ]
  },
  {
   "cell_type": "code",
   "execution_count": 727,
   "metadata": {},
   "outputs": [
    {
     "data": {
      "text/html": [
       "<div>\n",
       "<style scoped>\n",
       "    .dataframe tbody tr th:only-of-type {\n",
       "        vertical-align: middle;\n",
       "    }\n",
       "\n",
       "    .dataframe tbody tr th {\n",
       "        vertical-align: top;\n",
       "    }\n",
       "\n",
       "    .dataframe thead th {\n",
       "        text-align: right;\n",
       "    }\n",
       "</style>\n",
       "<table border=\"1\" class=\"dataframe\">\n",
       "  <thead>\n",
       "    <tr style=\"text-align: right;\">\n",
       "      <th></th>\n",
       "      <th>Titre</th>\n",
       "      <th>Entrées</th>\n",
       "    </tr>\n",
       "  </thead>\n",
       "  <tbody>\n",
       "  </tbody>\n",
       "</table>\n",
       "</div>"
      ],
      "text/plain": [
       "Empty DataFrame\n",
       "Columns: [Titre, Entrées]\n",
       "Index: []"
      ]
     },
     "execution_count": 727,
     "metadata": {},
     "output_type": "execute_result"
    }
   ],
   "source": [
    "\n",
    "df[df['Titre']=='Barbie']"
   ]
  },
  {
   "cell_type": "code",
   "execution_count": 728,
   "metadata": {},
   "outputs": [
    {
     "data": {
      "text/html": [
       "<div>\n",
       "<style scoped>\n",
       "    .dataframe tbody tr th:only-of-type {\n",
       "        vertical-align: middle;\n",
       "    }\n",
       "\n",
       "    .dataframe tbody tr th {\n",
       "        vertical-align: top;\n",
       "    }\n",
       "\n",
       "    .dataframe thead th {\n",
       "        text-align: right;\n",
       "    }\n",
       "</style>\n",
       "<table border=\"1\" class=\"dataframe\">\n",
       "  <thead>\n",
       "    <tr style=\"text-align: right;\">\n",
       "      <th></th>\n",
       "      <th>Titre</th>\n",
       "      <th>Entrées</th>\n",
       "    </tr>\n",
       "  </thead>\n",
       "  <tbody>\n",
       "    <tr>\n",
       "      <th>33</th>\n",
       "      <td>Barbie</td>\n",
       "      <td>155 000 000</td>\n",
       "    </tr>\n",
       "    <tr>\n",
       "      <th>114410</th>\n",
       "      <td>Barbie</td>\n",
       "      <td>NaN</td>\n",
       "    </tr>\n",
       "  </tbody>\n",
       "</table>\n",
       "</div>"
      ],
      "text/plain": [
       "         Titre      Entrées\n",
       "33      Barbie  155 000 000\n",
       "114410  Barbie          NaN"
      ]
     },
     "execution_count": 728,
     "metadata": {},
     "output_type": "execute_result"
    }
   ],
   "source": [
    "\n",
    "df1[df1['Titre']=='Barbie']"
   ]
  },
  {
   "cell_type": "code",
   "execution_count": 729,
   "metadata": {},
   "outputs": [
    {
     "data": {
      "text/html": [
       "<div>\n",
       "<style scoped>\n",
       "    .dataframe tbody tr th:only-of-type {\n",
       "        vertical-align: middle;\n",
       "    }\n",
       "\n",
       "    .dataframe tbody tr th {\n",
       "        vertical-align: top;\n",
       "    }\n",
       "\n",
       "    .dataframe thead th {\n",
       "        text-align: right;\n",
       "    }\n",
       "</style>\n",
       "<table border=\"1\" class=\"dataframe\">\n",
       "  <thead>\n",
       "    <tr style=\"text-align: right;\">\n",
       "      <th></th>\n",
       "      <th>Titre</th>\n",
       "      <th>Entrées</th>\n",
       "    </tr>\n",
       "  </thead>\n",
       "  <tbody>\n",
       "  </tbody>\n",
       "</table>\n",
       "</div>"
      ],
      "text/plain": [
       "Empty DataFrame\n",
       "Columns: [Titre, Entrées]\n",
       "Index: []"
      ]
     },
     "execution_count": 729,
     "metadata": {},
     "output_type": "execute_result"
    }
   ],
   "source": [
    "df[df['Titre']=='The Covenant']"
   ]
  },
  {
   "cell_type": "code",
   "execution_count": 730,
   "metadata": {},
   "outputs": [
    {
     "data": {
      "text/html": [
       "<div>\n",
       "<style scoped>\n",
       "    .dataframe tbody tr th:only-of-type {\n",
       "        vertical-align: middle;\n",
       "    }\n",
       "\n",
       "    .dataframe tbody tr th {\n",
       "        vertical-align: top;\n",
       "    }\n",
       "\n",
       "    .dataframe thead th {\n",
       "        text-align: right;\n",
       "    }\n",
       "</style>\n",
       "<table border=\"1\" class=\"dataframe\">\n",
       "  <thead>\n",
       "    <tr style=\"text-align: right;\">\n",
       "      <th></th>\n",
       "      <th>Titre</th>\n",
       "      <th>Entrées</th>\n",
       "    </tr>\n",
       "  </thead>\n",
       "  <tbody>\n",
       "    <tr>\n",
       "      <th>282</th>\n",
       "      <td>The Covenant</td>\n",
       "      <td>6 380 188,3 615 081</td>\n",
       "    </tr>\n",
       "    <tr>\n",
       "      <th>40237</th>\n",
       "      <td>The Covenant</td>\n",
       "      <td>NaN</td>\n",
       "    </tr>\n",
       "    <tr>\n",
       "      <th>114627</th>\n",
       "      <td>The Covenant</td>\n",
       "      <td>NaN</td>\n",
       "    </tr>\n",
       "  </tbody>\n",
       "</table>\n",
       "</div>"
      ],
      "text/plain": [
       "               Titre              Entrées\n",
       "282     The Covenant  6 380 188,3 615 081\n",
       "40237   The Covenant                  NaN\n",
       "114627  The Covenant                  NaN"
      ]
     },
     "execution_count": 730,
     "metadata": {},
     "output_type": "execute_result"
    }
   ],
   "source": [
    "df1[df1['Titre']=='The Covenant']"
   ]
  },
  {
   "cell_type": "code",
   "execution_count": 731,
   "metadata": {},
   "outputs": [
    {
     "data": {
      "text/html": [
       "<div>\n",
       "<style scoped>\n",
       "    .dataframe tbody tr th:only-of-type {\n",
       "        vertical-align: middle;\n",
       "    }\n",
       "\n",
       "    .dataframe tbody tr th {\n",
       "        vertical-align: top;\n",
       "    }\n",
       "\n",
       "    .dataframe thead th {\n",
       "        text-align: right;\n",
       "    }\n",
       "</style>\n",
       "<table border=\"1\" class=\"dataframe\">\n",
       "  <thead>\n",
       "    <tr style=\"text-align: right;\">\n",
       "      <th></th>\n",
       "      <th>Titre</th>\n",
       "      <th>Entrées</th>\n",
       "    </tr>\n",
       "  </thead>\n",
       "  <tbody>\n",
       "    <tr>\n",
       "      <th>219</th>\n",
       "      <td>Joy Ride</td>\n",
       "      <td>9 258,772</td>\n",
       "    </tr>\n",
       "  </tbody>\n",
       "</table>\n",
       "</div>"
      ],
      "text/plain": [
       "        Titre    Entrées\n",
       "219  Joy Ride  9 258,772"
      ]
     },
     "execution_count": 731,
     "metadata": {},
     "output_type": "execute_result"
    }
   ],
   "source": [
    "df[df['Titre']=='Joy Ride']"
   ]
  },
  {
   "cell_type": "code",
   "execution_count": 732,
   "metadata": {},
   "outputs": [],
   "source": [
    "df = df.dropna()"
   ]
  },
  {
   "cell_type": "code",
   "execution_count": 733,
   "metadata": {},
   "outputs": [
    {
     "data": {
      "text/html": [
       "<div>\n",
       "<style scoped>\n",
       "    .dataframe tbody tr th:only-of-type {\n",
       "        vertical-align: middle;\n",
       "    }\n",
       "\n",
       "    .dataframe tbody tr th {\n",
       "        vertical-align: top;\n",
       "    }\n",
       "\n",
       "    .dataframe thead th {\n",
       "        text-align: right;\n",
       "    }\n",
       "</style>\n",
       "<table border=\"1\" class=\"dataframe\">\n",
       "  <thead>\n",
       "    <tr style=\"text-align: right;\">\n",
       "      <th></th>\n",
       "      <th>Titre</th>\n",
       "      <th>Entrées</th>\n",
       "    </tr>\n",
       "  </thead>\n",
       "  <tbody>\n",
       "    <tr>\n",
       "      <th>0</th>\n",
       "      <td>Avatar : la voie de l'eau</td>\n",
       "      <td>2 739 848,3 010 310</td>\n",
       "    </tr>\n",
       "    <tr>\n",
       "      <th>1</th>\n",
       "      <td>Le Processus de paix</td>\n",
       "      <td>34 918,15 048</td>\n",
       "    </tr>\n",
       "    <tr>\n",
       "      <th>2</th>\n",
       "      <td>The Lost City of Z</td>\n",
       "      <td>150 045,76 883</td>\n",
       "    </tr>\n",
       "    <tr>\n",
       "      <th>3</th>\n",
       "      <td>Spider-Man : New Generation</td>\n",
       "      <td>218 728,149 041</td>\n",
       "    </tr>\n",
       "    <tr>\n",
       "      <th>4</th>\n",
       "      <td>Jeanne du Barry</td>\n",
       "      <td>45 029,356 152</td>\n",
       "    </tr>\n",
       "    <tr>\n",
       "      <th>...</th>\n",
       "      <td>...</td>\n",
       "      <td>...</td>\n",
       "    </tr>\n",
       "    <tr>\n",
       "      <th>8692</th>\n",
       "      <td>Triomf</td>\n",
       "      <td>140,66</td>\n",
       "    </tr>\n",
       "    <tr>\n",
       "      <th>8693</th>\n",
       "      <td>Property</td>\n",
       "      <td>106,20</td>\n",
       "    </tr>\n",
       "    <tr>\n",
       "      <th>8694</th>\n",
       "      <td>Nocturnes pour le roi de Rome</td>\n",
       "      <td>211,161</td>\n",
       "    </tr>\n",
       "    <tr>\n",
       "      <th>8695</th>\n",
       "      <td>Notes Laura Fiori</td>\n",
       "      <td>14,11</td>\n",
       "    </tr>\n",
       "    <tr>\n",
       "      <th>8696</th>\n",
       "      <td>Hollywood, California</td>\n",
       "      <td>83</td>\n",
       "    </tr>\n",
       "  </tbody>\n",
       "</table>\n",
       "<p>8697 rows × 2 columns</p>\n",
       "</div>"
      ],
      "text/plain": [
       "                              Titre              Entrées\n",
       "0         Avatar : la voie de l'eau  2 739 848,3 010 310\n",
       "1              Le Processus de paix        34 918,15 048\n",
       "2                The Lost City of Z       150 045,76 883\n",
       "3       Spider-Man : New Generation      218 728,149 041\n",
       "4                   Jeanne du Barry       45 029,356 152\n",
       "...                             ...                  ...\n",
       "8692                         Triomf               140,66\n",
       "8693                       Property               106,20\n",
       "8694  Nocturnes pour le roi de Rome              211,161\n",
       "8695              Notes Laura Fiori                14,11\n",
       "8696          Hollywood, California                   83\n",
       "\n",
       "[8697 rows x 2 columns]"
      ]
     },
     "execution_count": 733,
     "metadata": {},
     "output_type": "execute_result"
    }
   ],
   "source": [
    "df"
   ]
  },
  {
   "cell_type": "code",
   "execution_count": 734,
   "metadata": {},
   "outputs": [],
   "source": [
    "df['Entrées'] = df['Entrées'].str.replace(' ', '')"
   ]
  },
  {
   "cell_type": "code",
   "execution_count": 735,
   "metadata": {},
   "outputs": [],
   "source": [
    "\n",
    "df[['Entrées_1', 'Entrées_2']] = df['Entrées'].str.split(',', expand=True)"
   ]
  },
  {
   "cell_type": "code",
   "execution_count": 736,
   "metadata": {},
   "outputs": [],
   "source": [
    "df['Entrées_1'] = pd.to_numeric(df['Entrées_1'], errors='coerce').astype('Int64')\n",
    "df['Entrées_2'] = pd.to_numeric(df['Entrées_2'], errors='coerce').astype('Int64')"
   ]
  },
  {
   "cell_type": "code",
   "execution_count": 737,
   "metadata": {},
   "outputs": [
    {
     "data": {
      "text/html": [
       "<div>\n",
       "<style scoped>\n",
       "    .dataframe tbody tr th:only-of-type {\n",
       "        vertical-align: middle;\n",
       "    }\n",
       "\n",
       "    .dataframe tbody tr th {\n",
       "        vertical-align: top;\n",
       "    }\n",
       "\n",
       "    .dataframe thead th {\n",
       "        text-align: right;\n",
       "    }\n",
       "</style>\n",
       "<table border=\"1\" class=\"dataframe\">\n",
       "  <thead>\n",
       "    <tr style=\"text-align: right;\">\n",
       "      <th></th>\n",
       "      <th>Titre</th>\n",
       "      <th>Entrées</th>\n",
       "      <th>Entrées_1</th>\n",
       "      <th>Entrées_2</th>\n",
       "    </tr>\n",
       "  </thead>\n",
       "  <tbody>\n",
       "    <tr>\n",
       "      <th>0</th>\n",
       "      <td>Avatar : la voie de l'eau</td>\n",
       "      <td>2739848,3010310</td>\n",
       "      <td>2739848</td>\n",
       "      <td>3010310</td>\n",
       "    </tr>\n",
       "    <tr>\n",
       "      <th>1</th>\n",
       "      <td>Le Processus de paix</td>\n",
       "      <td>34918,15048</td>\n",
       "      <td>34918</td>\n",
       "      <td>15048</td>\n",
       "    </tr>\n",
       "    <tr>\n",
       "      <th>2</th>\n",
       "      <td>The Lost City of Z</td>\n",
       "      <td>150045,76883</td>\n",
       "      <td>150045</td>\n",
       "      <td>76883</td>\n",
       "    </tr>\n",
       "    <tr>\n",
       "      <th>3</th>\n",
       "      <td>Spider-Man : New Generation</td>\n",
       "      <td>218728,149041</td>\n",
       "      <td>218728</td>\n",
       "      <td>149041</td>\n",
       "    </tr>\n",
       "    <tr>\n",
       "      <th>4</th>\n",
       "      <td>Jeanne du Barry</td>\n",
       "      <td>45029,356152</td>\n",
       "      <td>45029</td>\n",
       "      <td>356152</td>\n",
       "    </tr>\n",
       "    <tr>\n",
       "      <th>...</th>\n",
       "      <td>...</td>\n",
       "      <td>...</td>\n",
       "      <td>...</td>\n",
       "      <td>...</td>\n",
       "    </tr>\n",
       "    <tr>\n",
       "      <th>8692</th>\n",
       "      <td>Triomf</td>\n",
       "      <td>140,66</td>\n",
       "      <td>140</td>\n",
       "      <td>66</td>\n",
       "    </tr>\n",
       "    <tr>\n",
       "      <th>8693</th>\n",
       "      <td>Property</td>\n",
       "      <td>106,20</td>\n",
       "      <td>106</td>\n",
       "      <td>20</td>\n",
       "    </tr>\n",
       "    <tr>\n",
       "      <th>8694</th>\n",
       "      <td>Nocturnes pour le roi de Rome</td>\n",
       "      <td>211,161</td>\n",
       "      <td>211</td>\n",
       "      <td>161</td>\n",
       "    </tr>\n",
       "    <tr>\n",
       "      <th>8695</th>\n",
       "      <td>Notes Laura Fiori</td>\n",
       "      <td>14,11</td>\n",
       "      <td>14</td>\n",
       "      <td>11</td>\n",
       "    </tr>\n",
       "    <tr>\n",
       "      <th>8696</th>\n",
       "      <td>Hollywood, California</td>\n",
       "      <td>83</td>\n",
       "      <td>83</td>\n",
       "      <td>&lt;NA&gt;</td>\n",
       "    </tr>\n",
       "  </tbody>\n",
       "</table>\n",
       "<p>8697 rows × 4 columns</p>\n",
       "</div>"
      ],
      "text/plain": [
       "                              Titre          Entrées  Entrées_1  Entrées_2\n",
       "0         Avatar : la voie de l'eau  2739848,3010310    2739848    3010310\n",
       "1              Le Processus de paix      34918,15048      34918      15048\n",
       "2                The Lost City of Z     150045,76883     150045      76883\n",
       "3       Spider-Man : New Generation    218728,149041     218728     149041\n",
       "4                   Jeanne du Barry     45029,356152      45029     356152\n",
       "...                             ...              ...        ...        ...\n",
       "8692                         Triomf           140,66        140         66\n",
       "8693                       Property           106,20        106         20\n",
       "8694  Nocturnes pour le roi de Rome          211,161        211        161\n",
       "8695              Notes Laura Fiori            14,11         14         11\n",
       "8696          Hollywood, California               83         83       <NA>\n",
       "\n",
       "[8697 rows x 4 columns]"
      ]
     },
     "execution_count": 737,
     "metadata": {},
     "output_type": "execute_result"
    }
   ],
   "source": [
    "df"
   ]
  },
  {
   "attachments": {},
   "cell_type": "markdown",
   "metadata": {},
   "source": [
    "## 3- Choix entre Entrées_1 et Entrées_2"
   ]
  },
  {
   "cell_type": "code",
   "execution_count": 738,
   "metadata": {},
   "outputs": [
    {
     "name": "stdout",
     "output_type": "stream",
     "text": [
      "                              Titre        Entrées  Entrées_1  Entrées_2\n",
      "1              Le Processus de paix    34918,15048      34918      15048\n",
      "2                The Lost City of Z   150045,76883     150045      76883\n",
      "3       Spider-Man : New Generation  218728,149041     218728     149041\n",
      "5                           Apaches    33659,10567      33659      10567\n",
      "6                          Deux Moi  238161,171486     238161     171486\n",
      "...                             ...            ...        ...        ...\n",
      "8691          Du bruit dans la tête           64,7         64          7\n",
      "8692                         Triomf         140,66        140         66\n",
      "8693                       Property         106,20        106         20\n",
      "8694  Nocturnes pour le roi de Rome        211,161        211        161\n",
      "8695              Notes Laura Fiori          14,11         14         11\n",
      "\n",
      "[7630 rows x 4 columns]\n"
     ]
    }
   ],
   "source": [
    "print(df[df['Entrées_1'] >= df['Entrées_2']])"
   ]
  },
  {
   "cell_type": "code",
   "execution_count": 739,
   "metadata": {},
   "outputs": [
    {
     "name": "stdout",
     "output_type": "stream",
     "text": [
      "                          Titre          Entrées  Entrées_1  Entrées_2\n",
      "0     Avatar : la voie de l'eau  2739848,3010310    2739848    3010310\n",
      "4               Jeanne du Barry     45029,356152      45029     356152\n",
      "9                   Alibi.com 2    81100,1017788      81100    1017788\n",
      "46                       Avatar  2648596,2925087    2648596    2925087\n",
      "48                    The Whale      65064,69274      65064      69274\n",
      "...                         ...              ...        ...        ...\n",
      "8635                      2/Duo        1513,1638       1513       1638\n",
      "8636             Pari(s) d'exil          101,138        101        138\n",
      "8654       Professeur Balthazar        1802,2708       1802       2708\n",
      "8675     Julius et le Père Noël       4010,10637       4010      10637\n",
      "8683  Le syndrome de Montmartre            41,44         41         44\n",
      "\n",
      "[630 rows x 4 columns]\n"
     ]
    }
   ],
   "source": [
    "print(df[df['Entrées_1'] < df['Entrées_2']])"
   ]
  },
  {
   "cell_type": "code",
   "execution_count": 740,
   "metadata": {},
   "outputs": [],
   "source": [
    "# Fonction personnalisée pour appliquer les conditions\n",
    "def calc_entrées(row):\n",
    "    if pd.notnull(row['Entrées_2']):\n",
    "        if row['Entrées_2'] > 7 * row['Entrées_1']:\n",
    "            return row['Entrées_2']\n",
    "        else:\n",
    "            return row['Entrées_1']\n",
    "    return row['Entrées_1']\n",
    "\n",
    "# Appliquer la fonction pour créer la nouvelle colonne 'Entrées_1ère_semaine'\n",
    "df['Entrées_1ère_semaine'] = df.apply(calc_entrées, axis=1)"
   ]
  },
  {
   "cell_type": "code",
   "execution_count": 741,
   "metadata": {},
   "outputs": [
    {
     "name": "stdout",
     "output_type": "stream",
     "text": [
      "                          Titre          Entrées  Entrées_1  Entrées_2  \\\n",
      "0     Avatar : la voie de l'eau  2739848,3010310    2739848    3010310   \n",
      "4               Jeanne du Barry     45029,356152      45029     356152   \n",
      "9                   Alibi.com 2    81100,1017788      81100    1017788   \n",
      "46                       Avatar  2648596,2925087    2648596    2925087   \n",
      "48                    The Whale      65064,69274      65064      69274   \n",
      "...                         ...              ...        ...        ...   \n",
      "8635                      2/Duo        1513,1638       1513       1638   \n",
      "8636             Pari(s) d'exil          101,138        101        138   \n",
      "8654       Professeur Balthazar        1802,2708       1802       2708   \n",
      "8675     Julius et le Père Noël       4010,10637       4010      10637   \n",
      "8683  Le syndrome de Montmartre            41,44         41         44   \n",
      "\n",
      "      Entrées_1ère_semaine  \n",
      "0                  2739848  \n",
      "4                   356152  \n",
      "9                  1017788  \n",
      "46                 2648596  \n",
      "48                   65064  \n",
      "...                    ...  \n",
      "8635                  1513  \n",
      "8636                   101  \n",
      "8654                  1802  \n",
      "8675                  4010  \n",
      "8683                    41  \n",
      "\n",
      "[630 rows x 5 columns]\n"
     ]
    }
   ],
   "source": [
    "print(df[df['Entrées_1'] < df['Entrées_2']])"
   ]
  },
  {
   "cell_type": "code",
   "execution_count": 742,
   "metadata": {},
   "outputs": [
    {
     "data": {
      "text/html": [
       "<div>\n",
       "<style scoped>\n",
       "    .dataframe tbody tr th:only-of-type {\n",
       "        vertical-align: middle;\n",
       "    }\n",
       "\n",
       "    .dataframe tbody tr th {\n",
       "        vertical-align: top;\n",
       "    }\n",
       "\n",
       "    .dataframe thead th {\n",
       "        text-align: right;\n",
       "    }\n",
       "</style>\n",
       "<table border=\"1\" class=\"dataframe\">\n",
       "  <thead>\n",
       "    <tr style=\"text-align: right;\">\n",
       "      <th></th>\n",
       "      <th>Titre</th>\n",
       "      <th>Entrées</th>\n",
       "      <th>Entrées_1</th>\n",
       "      <th>Entrées_2</th>\n",
       "      <th>Entrées_1ère_semaine</th>\n",
       "    </tr>\n",
       "  </thead>\n",
       "  <tbody>\n",
       "    <tr>\n",
       "      <th>0</th>\n",
       "      <td>Avatar : la voie de l'eau</td>\n",
       "      <td>2739848,3010310</td>\n",
       "      <td>2739848</td>\n",
       "      <td>3010310</td>\n",
       "      <td>2739848</td>\n",
       "    </tr>\n",
       "    <tr>\n",
       "      <th>1</th>\n",
       "      <td>Le Processus de paix</td>\n",
       "      <td>34918,15048</td>\n",
       "      <td>34918</td>\n",
       "      <td>15048</td>\n",
       "      <td>34918</td>\n",
       "    </tr>\n",
       "    <tr>\n",
       "      <th>2</th>\n",
       "      <td>The Lost City of Z</td>\n",
       "      <td>150045,76883</td>\n",
       "      <td>150045</td>\n",
       "      <td>76883</td>\n",
       "      <td>150045</td>\n",
       "    </tr>\n",
       "    <tr>\n",
       "      <th>3</th>\n",
       "      <td>Spider-Man : New Generation</td>\n",
       "      <td>218728,149041</td>\n",
       "      <td>218728</td>\n",
       "      <td>149041</td>\n",
       "      <td>218728</td>\n",
       "    </tr>\n",
       "    <tr>\n",
       "      <th>4</th>\n",
       "      <td>Jeanne du Barry</td>\n",
       "      <td>45029,356152</td>\n",
       "      <td>45029</td>\n",
       "      <td>356152</td>\n",
       "      <td>356152</td>\n",
       "    </tr>\n",
       "    <tr>\n",
       "      <th>...</th>\n",
       "      <td>...</td>\n",
       "      <td>...</td>\n",
       "      <td>...</td>\n",
       "      <td>...</td>\n",
       "      <td>...</td>\n",
       "    </tr>\n",
       "    <tr>\n",
       "      <th>8692</th>\n",
       "      <td>Triomf</td>\n",
       "      <td>140,66</td>\n",
       "      <td>140</td>\n",
       "      <td>66</td>\n",
       "      <td>140</td>\n",
       "    </tr>\n",
       "    <tr>\n",
       "      <th>8693</th>\n",
       "      <td>Property</td>\n",
       "      <td>106,20</td>\n",
       "      <td>106</td>\n",
       "      <td>20</td>\n",
       "      <td>106</td>\n",
       "    </tr>\n",
       "    <tr>\n",
       "      <th>8694</th>\n",
       "      <td>Nocturnes pour le roi de Rome</td>\n",
       "      <td>211,161</td>\n",
       "      <td>211</td>\n",
       "      <td>161</td>\n",
       "      <td>211</td>\n",
       "    </tr>\n",
       "    <tr>\n",
       "      <th>8695</th>\n",
       "      <td>Notes Laura Fiori</td>\n",
       "      <td>14,11</td>\n",
       "      <td>14</td>\n",
       "      <td>11</td>\n",
       "      <td>14</td>\n",
       "    </tr>\n",
       "    <tr>\n",
       "      <th>8696</th>\n",
       "      <td>Hollywood, California</td>\n",
       "      <td>83</td>\n",
       "      <td>83</td>\n",
       "      <td>&lt;NA&gt;</td>\n",
       "      <td>83</td>\n",
       "    </tr>\n",
       "  </tbody>\n",
       "</table>\n",
       "<p>8697 rows × 5 columns</p>\n",
       "</div>"
      ],
      "text/plain": [
       "                              Titre          Entrées  Entrées_1  Entrées_2  \\\n",
       "0         Avatar : la voie de l'eau  2739848,3010310    2739848    3010310   \n",
       "1              Le Processus de paix      34918,15048      34918      15048   \n",
       "2                The Lost City of Z     150045,76883     150045      76883   \n",
       "3       Spider-Man : New Generation    218728,149041     218728     149041   \n",
       "4                   Jeanne du Barry     45029,356152      45029     356152   \n",
       "...                             ...              ...        ...        ...   \n",
       "8692                         Triomf           140,66        140         66   \n",
       "8693                       Property           106,20        106         20   \n",
       "8694  Nocturnes pour le roi de Rome          211,161        211        161   \n",
       "8695              Notes Laura Fiori            14,11         14         11   \n",
       "8696          Hollywood, California               83         83       <NA>   \n",
       "\n",
       "      Entrées_1ère_semaine  \n",
       "0                  2739848  \n",
       "1                    34918  \n",
       "2                   150045  \n",
       "3                   218728  \n",
       "4                   356152  \n",
       "...                    ...  \n",
       "8692                   140  \n",
       "8693                   106  \n",
       "8694                   211  \n",
       "8695                    14  \n",
       "8696                    83  \n",
       "\n",
       "[8697 rows x 5 columns]"
      ]
     },
     "execution_count": 742,
     "metadata": {},
     "output_type": "execute_result"
    }
   ],
   "source": [
    "df"
   ]
  },
  {
   "attachments": {},
   "cell_type": "markdown",
   "metadata": {},
   "source": [
    "## 4- DataFrame Titre et Entrées 1ère semaine"
   ]
  },
  {
   "cell_type": "code",
   "execution_count": 743,
   "metadata": {},
   "outputs": [],
   "source": [
    "df = df[['Titre', 'Entrées_1ère_semaine']]"
   ]
  },
  {
   "cell_type": "code",
   "execution_count": 744,
   "metadata": {},
   "outputs": [
    {
     "data": {
      "text/html": [
       "<div>\n",
       "<style scoped>\n",
       "    .dataframe tbody tr th:only-of-type {\n",
       "        vertical-align: middle;\n",
       "    }\n",
       "\n",
       "    .dataframe tbody tr th {\n",
       "        vertical-align: top;\n",
       "    }\n",
       "\n",
       "    .dataframe thead th {\n",
       "        text-align: right;\n",
       "    }\n",
       "</style>\n",
       "<table border=\"1\" class=\"dataframe\">\n",
       "  <thead>\n",
       "    <tr style=\"text-align: right;\">\n",
       "      <th></th>\n",
       "      <th>Titre</th>\n",
       "      <th>Entrées_1ère_semaine</th>\n",
       "    </tr>\n",
       "  </thead>\n",
       "  <tbody>\n",
       "    <tr>\n",
       "      <th>0</th>\n",
       "      <td>Avatar : la voie de l'eau</td>\n",
       "      <td>2739848</td>\n",
       "    </tr>\n",
       "    <tr>\n",
       "      <th>1</th>\n",
       "      <td>Le Processus de paix</td>\n",
       "      <td>34918</td>\n",
       "    </tr>\n",
       "    <tr>\n",
       "      <th>2</th>\n",
       "      <td>The Lost City of Z</td>\n",
       "      <td>150045</td>\n",
       "    </tr>\n",
       "    <tr>\n",
       "      <th>3</th>\n",
       "      <td>Spider-Man : New Generation</td>\n",
       "      <td>218728</td>\n",
       "    </tr>\n",
       "    <tr>\n",
       "      <th>4</th>\n",
       "      <td>Jeanne du Barry</td>\n",
       "      <td>356152</td>\n",
       "    </tr>\n",
       "    <tr>\n",
       "      <th>...</th>\n",
       "      <td>...</td>\n",
       "      <td>...</td>\n",
       "    </tr>\n",
       "    <tr>\n",
       "      <th>8692</th>\n",
       "      <td>Triomf</td>\n",
       "      <td>140</td>\n",
       "    </tr>\n",
       "    <tr>\n",
       "      <th>8693</th>\n",
       "      <td>Property</td>\n",
       "      <td>106</td>\n",
       "    </tr>\n",
       "    <tr>\n",
       "      <th>8694</th>\n",
       "      <td>Nocturnes pour le roi de Rome</td>\n",
       "      <td>211</td>\n",
       "    </tr>\n",
       "    <tr>\n",
       "      <th>8695</th>\n",
       "      <td>Notes Laura Fiori</td>\n",
       "      <td>14</td>\n",
       "    </tr>\n",
       "    <tr>\n",
       "      <th>8696</th>\n",
       "      <td>Hollywood, California</td>\n",
       "      <td>83</td>\n",
       "    </tr>\n",
       "  </tbody>\n",
       "</table>\n",
       "<p>8697 rows × 2 columns</p>\n",
       "</div>"
      ],
      "text/plain": [
       "                              Titre  Entrées_1ère_semaine\n",
       "0         Avatar : la voie de l'eau               2739848\n",
       "1              Le Processus de paix                 34918\n",
       "2                The Lost City of Z                150045\n",
       "3       Spider-Man : New Generation                218728\n",
       "4                   Jeanne du Barry                356152\n",
       "...                             ...                   ...\n",
       "8692                         Triomf                   140\n",
       "8693                       Property                   106\n",
       "8694  Nocturnes pour le roi de Rome                   211\n",
       "8695              Notes Laura Fiori                    14\n",
       "8696          Hollywood, California                    83\n",
       "\n",
       "[8697 rows x 2 columns]"
      ]
     },
     "execution_count": 744,
     "metadata": {},
     "output_type": "execute_result"
    }
   ],
   "source": [
    "df"
   ]
  },
  {
   "cell_type": "code",
   "execution_count": 745,
   "metadata": {},
   "outputs": [
    {
     "data": {
      "text/plain": [
       "La Traversée                     3\n",
       "Brothers                         3\n",
       "Invasion                         3\n",
       "Le Chemin                        3\n",
       "Brooklyn                         2\n",
       "                                ..\n",
       "Cyprien                          1\n",
       "Gangsterdam                      1\n",
       "Les Vacances du Petit Nicolas    1\n",
       "Parents d'élèves                 1\n",
       "Hollywood, California            1\n",
       "Name: Titre, Length: 8591, dtype: int64"
      ]
     },
     "execution_count": 745,
     "metadata": {},
     "output_type": "execute_result"
    }
   ],
   "source": [
    "df['Titre'].value_counts()\n"
   ]
  },
  {
   "cell_type": "code",
   "execution_count": 746,
   "metadata": {},
   "outputs": [
    {
     "data": {
      "text/html": [
       "<div>\n",
       "<style scoped>\n",
       "    .dataframe tbody tr th:only-of-type {\n",
       "        vertical-align: middle;\n",
       "    }\n",
       "\n",
       "    .dataframe tbody tr th {\n",
       "        vertical-align: top;\n",
       "    }\n",
       "\n",
       "    .dataframe thead th {\n",
       "        text-align: right;\n",
       "    }\n",
       "</style>\n",
       "<table border=\"1\" class=\"dataframe\">\n",
       "  <thead>\n",
       "    <tr style=\"text-align: right;\">\n",
       "      <th></th>\n",
       "      <th>Titre</th>\n",
       "      <th>Entrées_1ère_semaine</th>\n",
       "    </tr>\n",
       "  </thead>\n",
       "  <tbody>\n",
       "    <tr>\n",
       "      <th>608</th>\n",
       "      <td>Brothers</td>\n",
       "      <td>151186</td>\n",
       "    </tr>\n",
       "    <tr>\n",
       "      <th>6525</th>\n",
       "      <td>Brothers</td>\n",
       "      <td>833</td>\n",
       "    </tr>\n",
       "    <tr>\n",
       "      <th>8148</th>\n",
       "      <td>Brothers</td>\n",
       "      <td>46</td>\n",
       "    </tr>\n",
       "  </tbody>\n",
       "</table>\n",
       "</div>"
      ],
      "text/plain": [
       "         Titre  Entrées_1ère_semaine\n",
       "608   Brothers                151186\n",
       "6525  Brothers                   833\n",
       "8148  Brothers                    46"
      ]
     },
     "execution_count": 746,
     "metadata": {},
     "output_type": "execute_result"
    }
   ],
   "source": [
    "df[df['Titre']== 'Brothers']"
   ]
  },
  {
   "cell_type": "code",
   "execution_count": 747,
   "metadata": {},
   "outputs": [
    {
     "data": {
      "text/html": [
       "<div>\n",
       "<style scoped>\n",
       "    .dataframe tbody tr th:only-of-type {\n",
       "        vertical-align: middle;\n",
       "    }\n",
       "\n",
       "    .dataframe tbody tr th {\n",
       "        vertical-align: top;\n",
       "    }\n",
       "\n",
       "    .dataframe thead th {\n",
       "        text-align: right;\n",
       "    }\n",
       "</style>\n",
       "<table border=\"1\" class=\"dataframe\">\n",
       "  <thead>\n",
       "    <tr style=\"text-align: right;\">\n",
       "      <th></th>\n",
       "      <th>Titre</th>\n",
       "      <th>Entrées_1ère_semaine</th>\n",
       "    </tr>\n",
       "  </thead>\n",
       "  <tbody>\n",
       "    <tr>\n",
       "      <th>30</th>\n",
       "      <td>Coco</td>\n",
       "      <td>948846</td>\n",
       "    </tr>\n",
       "    <tr>\n",
       "      <th>58</th>\n",
       "      <td>Les Misérables</td>\n",
       "      <td>559378</td>\n",
       "    </tr>\n",
       "    <tr>\n",
       "      <th>80</th>\n",
       "      <td>Une nuit</td>\n",
       "      <td>58679</td>\n",
       "    </tr>\n",
       "    <tr>\n",
       "      <th>172</th>\n",
       "      <td>Cendrillon</td>\n",
       "      <td>636418</td>\n",
       "    </tr>\n",
       "    <tr>\n",
       "      <th>174</th>\n",
       "      <td>En eaux troubles</td>\n",
       "      <td>710798</td>\n",
       "    </tr>\n",
       "    <tr>\n",
       "      <th>...</th>\n",
       "      <td>...</td>\n",
       "      <td>...</td>\n",
       "    </tr>\n",
       "    <tr>\n",
       "      <th>8354</th>\n",
       "      <td>Invisible</td>\n",
       "      <td>472</td>\n",
       "    </tr>\n",
       "    <tr>\n",
       "      <th>8362</th>\n",
       "      <td>Boogie</td>\n",
       "      <td>4575</td>\n",
       "    </tr>\n",
       "    <tr>\n",
       "      <th>8411</th>\n",
       "      <td>L'Envol</td>\n",
       "      <td>1633</td>\n",
       "    </tr>\n",
       "    <tr>\n",
       "      <th>8486</th>\n",
       "      <td>Noces</td>\n",
       "      <td>1220</td>\n",
       "    </tr>\n",
       "    <tr>\n",
       "      <th>8569</th>\n",
       "      <td>L'Absence</td>\n",
       "      <td>215</td>\n",
       "    </tr>\n",
       "  </tbody>\n",
       "</table>\n",
       "<p>208 rows × 2 columns</p>\n",
       "</div>"
      ],
      "text/plain": [
       "                 Titre  Entrées_1ère_semaine\n",
       "30                Coco                948846\n",
       "58      Les Misérables                559378\n",
       "80            Une nuit                 58679\n",
       "172         Cendrillon                636418\n",
       "174   En eaux troubles                710798\n",
       "...                ...                   ...\n",
       "8354         Invisible                   472\n",
       "8362            Boogie                  4575\n",
       "8411           L'Envol                  1633\n",
       "8486             Noces                  1220\n",
       "8569         L'Absence                   215\n",
       "\n",
       "[208 rows x 2 columns]"
      ]
     },
     "execution_count": 747,
     "metadata": {},
     "output_type": "execute_result"
    }
   ],
   "source": [
    "duplicate_rows = df[df.duplicated(subset='Titre', keep=False)]\n",
    "duplicate_rows"
   ]
  },
  {
   "cell_type": "code",
   "execution_count": 748,
   "metadata": {},
   "outputs": [
    {
     "data": {
      "text/html": [
       "<div>\n",
       "<style scoped>\n",
       "    .dataframe tbody tr th:only-of-type {\n",
       "        vertical-align: middle;\n",
       "    }\n",
       "\n",
       "    .dataframe tbody tr th {\n",
       "        vertical-align: top;\n",
       "    }\n",
       "\n",
       "    .dataframe thead th {\n",
       "        text-align: right;\n",
       "    }\n",
       "</style>\n",
       "<table border=\"1\" class=\"dataframe\">\n",
       "  <thead>\n",
       "    <tr style=\"text-align: right;\">\n",
       "      <th></th>\n",
       "      <th>Titre</th>\n",
       "      <th>Entrées_1ère_semaine</th>\n",
       "    </tr>\n",
       "  </thead>\n",
       "  <tbody>\n",
       "    <tr>\n",
       "      <th>30</th>\n",
       "      <td>Coco</td>\n",
       "      <td>948846</td>\n",
       "    </tr>\n",
       "    <tr>\n",
       "      <th>3163</th>\n",
       "      <td>Coco</td>\n",
       "      <td>1806263</td>\n",
       "    </tr>\n",
       "  </tbody>\n",
       "</table>\n",
       "</div>"
      ],
      "text/plain": [
       "     Titre  Entrées_1ère_semaine\n",
       "30    Coco                948846\n",
       "3163  Coco               1806263"
      ]
     },
     "execution_count": 748,
     "metadata": {},
     "output_type": "execute_result"
    }
   ],
   "source": [
    "df[df['Titre']=='Coco']"
   ]
  },
  {
   "cell_type": "code",
   "execution_count": 749,
   "metadata": {},
   "outputs": [
    {
     "data": {
      "text/html": [
       "<div>\n",
       "<style scoped>\n",
       "    .dataframe tbody tr th:only-of-type {\n",
       "        vertical-align: middle;\n",
       "    }\n",
       "\n",
       "    .dataframe tbody tr th {\n",
       "        vertical-align: top;\n",
       "    }\n",
       "\n",
       "    .dataframe thead th {\n",
       "        text-align: right;\n",
       "    }\n",
       "</style>\n",
       "<table border=\"1\" class=\"dataframe\">\n",
       "  <thead>\n",
       "    <tr style=\"text-align: right;\">\n",
       "      <th></th>\n",
       "      <th>Titre</th>\n",
       "      <th>Entrées_1ère_semaine</th>\n",
       "    </tr>\n",
       "  </thead>\n",
       "  <tbody>\n",
       "    <tr>\n",
       "      <th>172</th>\n",
       "      <td>Cendrillon</td>\n",
       "      <td>636418</td>\n",
       "    </tr>\n",
       "    <tr>\n",
       "      <th>2931</th>\n",
       "      <td>Cendrillon</td>\n",
       "      <td>38457</td>\n",
       "    </tr>\n",
       "  </tbody>\n",
       "</table>\n",
       "</div>"
      ],
      "text/plain": [
       "           Titre  Entrées_1ère_semaine\n",
       "172   Cendrillon                636418\n",
       "2931  Cendrillon                 38457"
      ]
     },
     "execution_count": 749,
     "metadata": {},
     "output_type": "execute_result"
    }
   ],
   "source": [
    "df[df['Titre']==\"Cendrillon\"]"
   ]
  },
  {
   "cell_type": "code",
   "execution_count": 750,
   "metadata": {},
   "outputs": [
    {
     "name": "stderr",
     "output_type": "stream",
     "text": [
      "/tmp/ipykernel_14028/3731102788.py:2: SettingWithCopyWarning: \n",
      "A value is trying to be set on a copy of a slice from a DataFrame\n",
      "\n",
      "See the caveats in the documentation: https://pandas.pydata.org/pandas-docs/stable/user_guide/indexing.html#returning-a-view-versus-a-copy\n",
      "  df.drop_duplicates(subset='Titre', keep='last', inplace=True)\n"
     ]
    }
   ],
   "source": [
    "# Enlever les titres dupliqués en gardant celui avec le plus grand nombre d'entrées\n",
    "df.drop_duplicates(subset='Titre', keep='last', inplace=True)\n",
    "\n",
    "# Réinitialiser les index du DataFrame après la suppression des doublons\n",
    "df.reset_index(drop=True, inplace=True)"
   ]
  },
  {
   "cell_type": "code",
   "execution_count": 751,
   "metadata": {},
   "outputs": [
    {
     "data": {
      "text/html": [
       "<div>\n",
       "<style scoped>\n",
       "    .dataframe tbody tr th:only-of-type {\n",
       "        vertical-align: middle;\n",
       "    }\n",
       "\n",
       "    .dataframe tbody tr th {\n",
       "        vertical-align: top;\n",
       "    }\n",
       "\n",
       "    .dataframe thead th {\n",
       "        text-align: right;\n",
       "    }\n",
       "</style>\n",
       "<table border=\"1\" class=\"dataframe\">\n",
       "  <thead>\n",
       "    <tr style=\"text-align: right;\">\n",
       "      <th></th>\n",
       "      <th>Titre</th>\n",
       "      <th>Entrées_1ère_semaine</th>\n",
       "    </tr>\n",
       "  </thead>\n",
       "  <tbody>\n",
       "    <tr>\n",
       "      <th>0</th>\n",
       "      <td>Avatar : la voie de l'eau</td>\n",
       "      <td>2739848</td>\n",
       "    </tr>\n",
       "    <tr>\n",
       "      <th>1</th>\n",
       "      <td>Le Processus de paix</td>\n",
       "      <td>34918</td>\n",
       "    </tr>\n",
       "    <tr>\n",
       "      <th>2</th>\n",
       "      <td>The Lost City of Z</td>\n",
       "      <td>150045</td>\n",
       "    </tr>\n",
       "    <tr>\n",
       "      <th>3</th>\n",
       "      <td>Spider-Man : New Generation</td>\n",
       "      <td>218728</td>\n",
       "    </tr>\n",
       "    <tr>\n",
       "      <th>4</th>\n",
       "      <td>Jeanne du Barry</td>\n",
       "      <td>356152</td>\n",
       "    </tr>\n",
       "    <tr>\n",
       "      <th>...</th>\n",
       "      <td>...</td>\n",
       "      <td>...</td>\n",
       "    </tr>\n",
       "    <tr>\n",
       "      <th>8586</th>\n",
       "      <td>Triomf</td>\n",
       "      <td>140</td>\n",
       "    </tr>\n",
       "    <tr>\n",
       "      <th>8587</th>\n",
       "      <td>Property</td>\n",
       "      <td>106</td>\n",
       "    </tr>\n",
       "    <tr>\n",
       "      <th>8588</th>\n",
       "      <td>Nocturnes pour le roi de Rome</td>\n",
       "      <td>211</td>\n",
       "    </tr>\n",
       "    <tr>\n",
       "      <th>8589</th>\n",
       "      <td>Notes Laura Fiori</td>\n",
       "      <td>14</td>\n",
       "    </tr>\n",
       "    <tr>\n",
       "      <th>8590</th>\n",
       "      <td>Hollywood, California</td>\n",
       "      <td>83</td>\n",
       "    </tr>\n",
       "  </tbody>\n",
       "</table>\n",
       "<p>8591 rows × 2 columns</p>\n",
       "</div>"
      ],
      "text/plain": [
       "                              Titre  Entrées_1ère_semaine\n",
       "0         Avatar : la voie de l'eau               2739848\n",
       "1              Le Processus de paix                 34918\n",
       "2                The Lost City of Z                150045\n",
       "3       Spider-Man : New Generation                218728\n",
       "4                   Jeanne du Barry                356152\n",
       "...                             ...                   ...\n",
       "8586                         Triomf                   140\n",
       "8587                       Property                   106\n",
       "8588  Nocturnes pour le roi de Rome                   211\n",
       "8589              Notes Laura Fiori                    14\n",
       "8590          Hollywood, California                    83\n",
       "\n",
       "[8591 rows x 2 columns]"
      ]
     },
     "execution_count": 751,
     "metadata": {},
     "output_type": "execute_result"
    }
   ],
   "source": [
    "df"
   ]
  },
  {
   "cell_type": "code",
   "execution_count": 752,
   "metadata": {},
   "outputs": [
    {
     "data": {
      "text/html": [
       "<div>\n",
       "<style scoped>\n",
       "    .dataframe tbody tr th:only-of-type {\n",
       "        vertical-align: middle;\n",
       "    }\n",
       "\n",
       "    .dataframe tbody tr th {\n",
       "        vertical-align: top;\n",
       "    }\n",
       "\n",
       "    .dataframe thead th {\n",
       "        text-align: right;\n",
       "    }\n",
       "</style>\n",
       "<table border=\"1\" class=\"dataframe\">\n",
       "  <thead>\n",
       "    <tr style=\"text-align: right;\">\n",
       "      <th></th>\n",
       "      <th>Titre</th>\n",
       "      <th>Entrées_1ère_semaine</th>\n",
       "    </tr>\n",
       "  </thead>\n",
       "  <tbody>\n",
       "    <tr>\n",
       "      <th>260</th>\n",
       "      <td>Bienvenue chez les Ch'tis</td>\n",
       "      <td>4378720</td>\n",
       "    </tr>\n",
       "  </tbody>\n",
       "</table>\n",
       "</div>"
      ],
      "text/plain": [
       "                         Titre  Entrées_1ère_semaine\n",
       "260  Bienvenue chez les Ch'tis               4378720"
      ]
     },
     "execution_count": 752,
     "metadata": {},
     "output_type": "execute_result"
    }
   ],
   "source": [
    "df[df['Titre'] == \"Bienvenue chez les Ch'tis\"]"
   ]
  },
  {
   "cell_type": "code",
   "execution_count": 753,
   "metadata": {},
   "outputs": [],
   "source": [
    "df.to_csv('allocine_titre_entrees_gold.csv', index=False)"
   ]
  }
 ],
 "metadata": {
  "kernelspec": {
   "display_name": "scrapy-env",
   "language": "python",
   "name": "python3"
  },
  "language_info": {
   "codemirror_mode": {
    "name": "ipython",
    "version": 3
   },
   "file_extension": ".py",
   "mimetype": "text/x-python",
   "name": "python",
   "nbconvert_exporter": "python",
   "pygments_lexer": "ipython3",
   "version": "3.11.3"
  },
  "orig_nbformat": 4
 },
 "nbformat": 4,
 "nbformat_minor": 2
}
