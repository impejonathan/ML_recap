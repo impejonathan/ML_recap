{
 "cells": [
  {
   "cell_type": "code",
   "execution_count": 1,
   "metadata": {},
   "outputs": [],
   "source": [
    "import pandas as pd  \n",
    "\n",
    "\n",
    "df = pd.read_csv(\"data/allocine_bronze.csv\")\n"
   ]
  },
  {
   "cell_type": "code",
   "execution_count": 4,
   "metadata": {},
   "outputs": [
    {
     "name": "stdout",
     "output_type": "stream",
     "text": [
      "<class 'pandas.core.frame.DataFrame'>\n",
      "RangeIndex: 8637 entries, 0 to 8636\n",
      "Data columns (total 16 columns):\n",
      " #   Column                Non-Null Count  Dtype  \n",
      "---  ------                --------------  -----  \n",
      " 0   titre                 8637 non-null   object \n",
      " 1   acteur_1              8637 non-null   object \n",
      " 2   acteur_2              8637 non-null   object \n",
      " 3   acteur_3              8637 non-null   object \n",
      " 4   réalisateur           8637 non-null   object \n",
      " 5   distributeur          8637 non-null   object \n",
      " 6   note_presse           8637 non-null   float64\n",
      " 7   duree                 8637 non-null   int64  \n",
      " 8   genre                 8637 non-null   object \n",
      " 9   pays                  8637 non-null   object \n",
      " 10  type                  8637 non-null   object \n",
      " 11  nominations           8637 non-null   int64  \n",
      " 12  prix                  8637 non-null   int64  \n",
      " 13  annee_production      8637 non-null   int64  \n",
      " 14  Semaine               8637 non-null   object \n",
      " 15  Entrées_1ère_semaine  8637 non-null   int64  \n",
      "dtypes: float64(1), int64(5), object(10)\n",
      "memory usage: 1.1+ MB\n"
     ]
    }
   ],
   "source": [
    "df.info()"
   ]
  },
  {
   "cell_type": "code",
   "execution_count": 3,
   "metadata": {},
   "outputs": [],
   "source": [
    "df['acteur_1'] = df['acteur_1'].fillna('acteur inconnu')\n",
    "df['acteur_2'] = df['acteur_2'].fillna('acteur inconnu')\n",
    "df['acteur_3'] = df['acteur_3'].fillna('acteur inconnu')\n",
    "df['réalisateur'] = df['réalisateur'].fillna('réalisateur inconnu')\n",
    "df['distributeur'] = df['distributeur'].fillna('distributeur inconnu')\n",
    "df['genre'] = df['genre'].fillna('genre inconnu')\n",
    "df['pays'] = df['pays'].fillna('pays inconnu')\n"
   ]
  },
  {
   "cell_type": "code",
   "execution_count": 5,
   "metadata": {},
   "outputs": [],
   "source": [
    "df.to_csv(\"data/allocine_silver.csv\" , index=False)   "
   ]
  }
 ],
 "metadata": {
  "kernelspec": {
   "display_name": "base",
   "language": "python",
   "name": "python3"
  },
  "language_info": {
   "codemirror_mode": {
    "name": "ipython",
    "version": 3
   },
   "file_extension": ".py",
   "mimetype": "text/x-python",
   "name": "python",
   "nbconvert_exporter": "python",
   "pygments_lexer": "ipython3",
   "version": "3.10.8"
  },
  "orig_nbformat": 4
 },
 "nbformat": 4,
 "nbformat_minor": 2
}
