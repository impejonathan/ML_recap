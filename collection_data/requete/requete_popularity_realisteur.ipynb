{
 "cells": [
  {
   "cell_type": "code",
   "execution_count": 35,
   "metadata": {},
   "outputs": [],
   "source": [
    "import pandas as pd"
   ]
  },
  {
   "cell_type": "code",
   "execution_count": 36,
   "metadata": {},
   "outputs": [],
   "source": [
    "df = pd.read_csv('../data/allocine_silver_2.csv')"
   ]
  },
  {
   "cell_type": "code",
   "execution_count": 37,
   "metadata": {},
   "outputs": [],
   "source": [
    "api_key = '9d100064b2baf0f1d74a7e1af0a611d8'"
   ]
  },
  {
   "cell_type": "code",
   "execution_count": 38,
   "metadata": {},
   "outputs": [
    {
     "name": "stdout",
     "output_type": "stream",
     "text": [
      "             réalisateur  director_popularity\n",
      "0       Valérie Donzelli                5.421\n",
      "1             Alan Simon                0.828\n",
      "2      Nuri Bilge Ceylan                5.635\n",
      "3     Benjamin Millepied                3.581\n",
      "4             Smeep Kang                2.248\n",
      "...                  ...                  ...\n",
      "8229      Robert Siodmak                1.396\n",
      "8230        Yasujirô Ozu                4.727\n",
      "8231         James Whale                1.400\n",
      "8232    Alfred Hitchcock               12.204\n",
      "8233         Walt Disney               13.883\n",
      "\n",
      "[8234 rows x 2 columns]\n"
     ]
    }
   ],
   "source": [
    "import requests\n",
    "\n",
    "\n",
    "# Définir la fonction pour rechercher les réalisateurs par leur nom et obtenir leur popularité\n",
    "def get_director_popularity(api_key, director_name):\n",
    "    url = f'https://api.themoviedb.org/3/search/person?api_key={api_key}&query={director_name}'\n",
    "    response = requests.get(url)\n",
    "\n",
    "    if response.status_code == 200:\n",
    "        data = response.json()\n",
    "        results = data.get('results', [])\n",
    "        if results:\n",
    "            # On suppose ici qu'il y a au plus un résultat correspondant\n",
    "            return results[0].get('popularity')\n",
    "    return None\n",
    "\n",
    "# Supposez que votre DataFrame s'appelle df et que la colonne des réalisateurs s'appelle 'Realisateur'\n",
    "\n",
    "# Obtenir la popularité de chaque réalisateur dans le DataFrame\n",
    "df['director_popularity'] = df['réalisateur'].apply(lambda director_name: get_director_popularity(api_key, director_name))\n",
    "\n",
    "# Afficher le DataFrame avec la popularité de chaque réalisateur\n",
    "print(df[['réalisateur', 'director_popularity']])\n"
   ]
  },
  {
   "cell_type": "code",
   "execution_count": 39,
   "metadata": {},
   "outputs": [
    {
     "data": {
      "text/plain": [
       "5.635"
      ]
     },
     "execution_count": 39,
     "metadata": {},
     "output_type": "execute_result"
    }
   ],
   "source": [
    "df['director_popularity'][2]"
   ]
  },
  {
   "cell_type": "code",
   "execution_count": 2,
   "metadata": {},
   "outputs": [],
   "source": [
    "#df.to_csv('../data/allocine_popularity_realisteur.csv')"
   ]
  }
 ],
 "metadata": {
  "kernelspec": {
   "display_name": "scrapy-env",
   "language": "python",
   "name": "python3"
  },
  "language_info": {
   "codemirror_mode": {
    "name": "ipython",
    "version": 3
   },
   "file_extension": ".py",
   "mimetype": "text/x-python",
   "name": "python",
   "nbconvert_exporter": "python",
   "pygments_lexer": "ipython3",
   "version": "3.11.3"
  },
  "orig_nbformat": 4
 },
 "nbformat": 4,
 "nbformat_minor": 2
}
